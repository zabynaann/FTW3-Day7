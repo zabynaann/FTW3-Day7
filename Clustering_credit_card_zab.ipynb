{
  "nbformat": 4,
  "nbformat_minor": 0,
  "metadata": {
    "colab": {
      "name": "Clustering_credit_card_zab.ipynb",
      "provenance": [],
      "collapsed_sections": [],
      "toc_visible": true
    },
    "kernelspec": {
      "name": "python3",
      "display_name": "Python 3"
    }
  },
  "cells": [
    {
      "cell_type": "code",
      "metadata": {
        "id": "lc-uZ_ZhN44k",
        "colab_type": "code",
        "colab": {}
      },
      "source": [
        "import pandas as pd\n",
        "import numpy as np\n",
        "import matplotlib.pyplot as plt\n",
        "import seaborn as sns"
      ],
      "execution_count": 0,
      "outputs": []
    },
    {
      "cell_type": "markdown",
      "metadata": {
        "id": "LheBPT9zOi03",
        "colab_type": "text"
      },
      "source": [
        "### Load Data"
      ]
    },
    {
      "cell_type": "code",
      "metadata": {
        "id": "JXDvb0xDOQ98",
        "colab_type": "code",
        "colab": {}
      },
      "source": [
        "data = pd.read_csv(\"credit_card_clustering.csv\")"
      ],
      "execution_count": 0,
      "outputs": []
    },
    {
      "cell_type": "code",
      "metadata": {
        "id": "riPA2EWpOUZa",
        "colab_type": "code",
        "outputId": "3609c15d-e1f0-4c29-8c92-82cddf087f2c",
        "colab": {
          "base_uri": "https://localhost:8080/",
          "height": 217
        }
      },
      "source": [
        "data.head()"
      ],
      "execution_count": 3,
      "outputs": [
        {
          "output_type": "execute_result",
          "data": {
            "text/html": [
              "<div>\n",
              "<style scoped>\n",
              "    .dataframe tbody tr th:only-of-type {\n",
              "        vertical-align: middle;\n",
              "    }\n",
              "\n",
              "    .dataframe tbody tr th {\n",
              "        vertical-align: top;\n",
              "    }\n",
              "\n",
              "    .dataframe thead th {\n",
              "        text-align: right;\n",
              "    }\n",
              "</style>\n",
              "<table border=\"1\" class=\"dataframe\">\n",
              "  <thead>\n",
              "    <tr style=\"text-align: right;\">\n",
              "      <th></th>\n",
              "      <th>CUST_ID</th>\n",
              "      <th>BALANCE</th>\n",
              "      <th>BALANCE_FREQUENCY</th>\n",
              "      <th>PURCHASES</th>\n",
              "      <th>ONEOFF_PURCHASES</th>\n",
              "      <th>INSTALLMENTS_PURCHASES</th>\n",
              "      <th>CASH_ADVANCE</th>\n",
              "      <th>PURCHASES_FREQUENCY</th>\n",
              "      <th>ONEOFF_PURCHASES_FREQUENCY</th>\n",
              "      <th>PURCHASES_INSTALLMENTS_FREQUENCY</th>\n",
              "      <th>CASH_ADVANCE_FREQUENCY</th>\n",
              "      <th>CASH_ADVANCE_TRX</th>\n",
              "      <th>PURCHASES_TRX</th>\n",
              "      <th>CREDIT_LIMIT</th>\n",
              "      <th>PAYMENTS</th>\n",
              "      <th>MINIMUM_PAYMENTS</th>\n",
              "      <th>PRC_FULL_PAYMENT</th>\n",
              "      <th>TENURE</th>\n",
              "    </tr>\n",
              "  </thead>\n",
              "  <tbody>\n",
              "    <tr>\n",
              "      <th>0</th>\n",
              "      <td>C10001</td>\n",
              "      <td>40.900749</td>\n",
              "      <td>0.818182</td>\n",
              "      <td>95.40</td>\n",
              "      <td>0.00</td>\n",
              "      <td>95.4</td>\n",
              "      <td>0.000000</td>\n",
              "      <td>0.166667</td>\n",
              "      <td>0.000000</td>\n",
              "      <td>0.083333</td>\n",
              "      <td>0.000000</td>\n",
              "      <td>0</td>\n",
              "      <td>2</td>\n",
              "      <td>1000.0</td>\n",
              "      <td>201.802084</td>\n",
              "      <td>139.509787</td>\n",
              "      <td>0.000000</td>\n",
              "      <td>12</td>\n",
              "    </tr>\n",
              "    <tr>\n",
              "      <th>1</th>\n",
              "      <td>C10002</td>\n",
              "      <td>3202.467416</td>\n",
              "      <td>0.909091</td>\n",
              "      <td>0.00</td>\n",
              "      <td>0.00</td>\n",
              "      <td>0.0</td>\n",
              "      <td>6442.945483</td>\n",
              "      <td>0.000000</td>\n",
              "      <td>0.000000</td>\n",
              "      <td>0.000000</td>\n",
              "      <td>0.250000</td>\n",
              "      <td>4</td>\n",
              "      <td>0</td>\n",
              "      <td>7000.0</td>\n",
              "      <td>4103.032597</td>\n",
              "      <td>1072.340217</td>\n",
              "      <td>0.222222</td>\n",
              "      <td>12</td>\n",
              "    </tr>\n",
              "    <tr>\n",
              "      <th>2</th>\n",
              "      <td>C10003</td>\n",
              "      <td>2495.148862</td>\n",
              "      <td>1.000000</td>\n",
              "      <td>773.17</td>\n",
              "      <td>773.17</td>\n",
              "      <td>0.0</td>\n",
              "      <td>0.000000</td>\n",
              "      <td>1.000000</td>\n",
              "      <td>1.000000</td>\n",
              "      <td>0.000000</td>\n",
              "      <td>0.000000</td>\n",
              "      <td>0</td>\n",
              "      <td>12</td>\n",
              "      <td>7500.0</td>\n",
              "      <td>622.066742</td>\n",
              "      <td>627.284787</td>\n",
              "      <td>0.000000</td>\n",
              "      <td>12</td>\n",
              "    </tr>\n",
              "    <tr>\n",
              "      <th>3</th>\n",
              "      <td>C10004</td>\n",
              "      <td>1666.670542</td>\n",
              "      <td>0.636364</td>\n",
              "      <td>1499.00</td>\n",
              "      <td>1499.00</td>\n",
              "      <td>0.0</td>\n",
              "      <td>205.788017</td>\n",
              "      <td>0.083333</td>\n",
              "      <td>0.083333</td>\n",
              "      <td>0.000000</td>\n",
              "      <td>0.083333</td>\n",
              "      <td>1</td>\n",
              "      <td>1</td>\n",
              "      <td>7500.0</td>\n",
              "      <td>0.000000</td>\n",
              "      <td>NaN</td>\n",
              "      <td>0.000000</td>\n",
              "      <td>12</td>\n",
              "    </tr>\n",
              "    <tr>\n",
              "      <th>4</th>\n",
              "      <td>C10005</td>\n",
              "      <td>817.714335</td>\n",
              "      <td>1.000000</td>\n",
              "      <td>16.00</td>\n",
              "      <td>16.00</td>\n",
              "      <td>0.0</td>\n",
              "      <td>0.000000</td>\n",
              "      <td>0.083333</td>\n",
              "      <td>0.083333</td>\n",
              "      <td>0.000000</td>\n",
              "      <td>0.000000</td>\n",
              "      <td>0</td>\n",
              "      <td>1</td>\n",
              "      <td>1200.0</td>\n",
              "      <td>678.334763</td>\n",
              "      <td>244.791237</td>\n",
              "      <td>0.000000</td>\n",
              "      <td>12</td>\n",
              "    </tr>\n",
              "  </tbody>\n",
              "</table>\n",
              "</div>"
            ],
            "text/plain": [
              "  CUST_ID      BALANCE  ...  PRC_FULL_PAYMENT  TENURE\n",
              "0  C10001    40.900749  ...          0.000000      12\n",
              "1  C10002  3202.467416  ...          0.222222      12\n",
              "2  C10003  2495.148862  ...          0.000000      12\n",
              "3  C10004  1666.670542  ...          0.000000      12\n",
              "4  C10005   817.714335  ...          0.000000      12\n",
              "\n",
              "[5 rows x 18 columns]"
            ]
          },
          "metadata": {
            "tags": []
          },
          "execution_count": 3
        }
      ]
    },
    {
      "cell_type": "code",
      "metadata": {
        "id": "9e_eifYYP4zo",
        "colab_type": "code",
        "outputId": "8e7fffd5-4618-4185-a195-7b046d9268f6",
        "colab": {
          "base_uri": "https://localhost:8080/",
          "height": 425
        }
      },
      "source": [
        "data.info()"
      ],
      "execution_count": 4,
      "outputs": [
        {
          "output_type": "stream",
          "text": [
            "<class 'pandas.core.frame.DataFrame'>\n",
            "RangeIndex: 8950 entries, 0 to 8949\n",
            "Data columns (total 18 columns):\n",
            "CUST_ID                             8950 non-null object\n",
            "BALANCE                             8950 non-null float64\n",
            "BALANCE_FREQUENCY                   8950 non-null float64\n",
            "PURCHASES                           8950 non-null float64\n",
            "ONEOFF_PURCHASES                    8950 non-null float64\n",
            "INSTALLMENTS_PURCHASES              8950 non-null float64\n",
            "CASH_ADVANCE                        8950 non-null float64\n",
            "PURCHASES_FREQUENCY                 8950 non-null float64\n",
            "ONEOFF_PURCHASES_FREQUENCY          8950 non-null float64\n",
            "PURCHASES_INSTALLMENTS_FREQUENCY    8950 non-null float64\n",
            "CASH_ADVANCE_FREQUENCY              8950 non-null float64\n",
            "CASH_ADVANCE_TRX                    8950 non-null int64\n",
            "PURCHASES_TRX                       8950 non-null int64\n",
            "CREDIT_LIMIT                        8949 non-null float64\n",
            "PAYMENTS                            8950 non-null float64\n",
            "MINIMUM_PAYMENTS                    8637 non-null float64\n",
            "PRC_FULL_PAYMENT                    8950 non-null float64\n",
            "TENURE                              8950 non-null int64\n",
            "dtypes: float64(14), int64(3), object(1)\n",
            "memory usage: 1.2+ MB\n"
          ],
          "name": "stdout"
        }
      ]
    },
    {
      "cell_type": "markdown",
      "metadata": {
        "colab_type": "text",
        "id": "dl9XI3rJQvXJ"
      },
      "source": [
        "# Cleaning"
      ]
    },
    {
      "cell_type": "code",
      "metadata": {
        "id": "_VwaZBK1QQ0d",
        "colab_type": "code",
        "outputId": "4faa9165-81cd-45af-e4ab-ce5c746a41b0",
        "colab": {
          "base_uri": "https://localhost:8080/",
          "height": 123
        }
      },
      "source": [
        "data.isnull().sum().sort_values(ascending=False).head()"
      ],
      "execution_count": 5,
      "outputs": [
        {
          "output_type": "execute_result",
          "data": {
            "text/plain": [
              "MINIMUM_PAYMENTS       313\n",
              "CREDIT_LIMIT             1\n",
              "TENURE                   0\n",
              "PURCHASES_FREQUENCY      0\n",
              "BALANCE                  0\n",
              "dtype: int64"
            ]
          },
          "metadata": {
            "tags": []
          },
          "execution_count": 5
        }
      ]
    },
    {
      "cell_type": "code",
      "metadata": {
        "id": "3JqZaLhPQ0DQ",
        "colab_type": "code",
        "colab": {}
      },
      "source": [
        "#Impute missing value with mean\n",
        "data['MINIMUM_PAYMENTS']=data['MINIMUM_PAYMENTS'].fillna(data['MINIMUM_PAYMENTS'].mean())\n",
        "data['CREDIT_LIMIT']=data['CREDIT_LIMIT'].fillna(data['CREDIT_LIMIT'].mean())"
      ],
      "execution_count": 0,
      "outputs": []
    },
    {
      "cell_type": "code",
      "metadata": {
        "colab_type": "code",
        "outputId": "605a793c-281a-408b-a2c7-c1eed9aec939",
        "id": "YYLioGSQRp4k",
        "colab": {
          "base_uri": "https://localhost:8080/",
          "height": 123
        }
      },
      "source": [
        "data.isnull().sum().sort_values(ascending=False).head()"
      ],
      "execution_count": 7,
      "outputs": [
        {
          "output_type": "execute_result",
          "data": {
            "text/plain": [
              "TENURE               0\n",
              "PRC_FULL_PAYMENT     0\n",
              "BALANCE              0\n",
              "BALANCE_FREQUENCY    0\n",
              "PURCHASES            0\n",
              "dtype: int64"
            ]
          },
          "metadata": {
            "tags": []
          },
          "execution_count": 7
        }
      ]
    },
    {
      "cell_type": "markdown",
      "metadata": {
        "id": "UTTRZFQJQmXC",
        "colab_type": "text"
      },
      "source": [
        "# Exploratory Data Analysis"
      ]
    },
    {
      "cell_type": "markdown",
      "metadata": {
        "id": "qvz1x9KfO3jt",
        "colab_type": "text"
      },
      "source": [
        "### How many rows/columns are there?"
      ]
    },
    {
      "cell_type": "code",
      "metadata": {
        "id": "DWzrWlMaO5_j",
        "colab_type": "code",
        "outputId": "a698ea5b-e2ad-464b-a127-eb434d38bdc2",
        "colab": {
          "base_uri": "https://localhost:8080/",
          "height": 34
        }
      },
      "source": [
        "data.shape"
      ],
      "execution_count": 8,
      "outputs": [
        {
          "output_type": "execute_result",
          "data": {
            "text/plain": [
              "(8950, 18)"
            ]
          },
          "metadata": {
            "tags": []
          },
          "execution_count": 8
        }
      ]
    },
    {
      "cell_type": "markdown",
      "metadata": {
        "id": "0pxHHHgNOWGR",
        "colab_type": "text"
      },
      "source": [
        "### How many customers are there?"
      ]
    },
    {
      "cell_type": "code",
      "metadata": {
        "id": "9ZmesyD9Onuq",
        "colab_type": "code",
        "outputId": "8c67258e-3cc6-4ed7-8b19-6de97669adfb",
        "colab": {
          "base_uri": "https://localhost:8080/",
          "height": 34
        }
      },
      "source": [
        "data['CUST_ID'].nunique()"
      ],
      "execution_count": 9,
      "outputs": [
        {
          "output_type": "execute_result",
          "data": {
            "text/plain": [
              "8950"
            ]
          },
          "metadata": {
            "tags": []
          },
          "execution_count": 9
        }
      ]
    },
    {
      "cell_type": "markdown",
      "metadata": {
        "id": "iU-MbVEVOwOt",
        "colab_type": "text"
      },
      "source": [
        "This means, all customer on our data is unique."
      ]
    },
    {
      "cell_type": "markdown",
      "metadata": {
        "id": "mLflskPqPQbO",
        "colab_type": "text"
      },
      "source": [
        "### How does the credit limit distribution of our customers look like?\n",
        "\n",
        "\n",
        "\n"
      ]
    },
    {
      "cell_type": "markdown",
      "metadata": {
        "id": "XJb_1fPLPZjh",
        "colab_type": "text"
      },
      "source": [
        "Descriptive Statistics"
      ]
    },
    {
      "cell_type": "code",
      "metadata": {
        "id": "A0vs8-PiPcYN",
        "colab_type": "code",
        "outputId": "8dceb625-32a9-4bf5-da67-284c3db7d936",
        "colab": {
          "base_uri": "https://localhost:8080/",
          "height": 283
        }
      },
      "source": [
        "data['CREDIT_LIMIT'].describe(np.arange(0.1, 1, 0.1))"
      ],
      "execution_count": 10,
      "outputs": [
        {
          "output_type": "execute_result",
          "data": {
            "text/plain": [
              "count     8950.000000\n",
              "mean      4494.449450\n",
              "std       3638.612411\n",
              "min         50.000000\n",
              "10%       1200.000000\n",
              "20%       1500.000000\n",
              "30%       2000.000000\n",
              "40%       2500.000000\n",
              "50%       3000.000000\n",
              "60%       4200.000000\n",
              "70%       6000.000000\n",
              "80%       7000.000000\n",
              "90%       9500.000000\n",
              "max      30000.000000\n",
              "Name: CREDIT_LIMIT, dtype: float64"
            ]
          },
          "metadata": {
            "tags": []
          },
          "execution_count": 10
        }
      ]
    },
    {
      "cell_type": "markdown",
      "metadata": {
        "id": "43REfwTpPhQh",
        "colab_type": "text"
      },
      "source": [
        "The credit limit ranges from 50 to 30000 with an average (median) annual income is 3000."
      ]
    },
    {
      "cell_type": "code",
      "metadata": {
        "id": "EL7nIQRzPUKr",
        "colab_type": "code",
        "outputId": "a7fe3067-4ab0-4abd-8553-f23e5e0a27d7",
        "colab": {
          "base_uri": "https://localhost:8080/",
          "height": 297
        }
      },
      "source": [
        "sns.distplot(data['CREDIT_LIMIT'], kde=False)"
      ],
      "execution_count": 11,
      "outputs": [
        {
          "output_type": "execute_result",
          "data": {
            "text/plain": [
              "<matplotlib.axes._subplots.AxesSubplot at 0x7feb0eb73be0>"
            ]
          },
          "metadata": {
            "tags": []
          },
          "execution_count": 11
        },
        {
          "output_type": "display_data",
          "data": {
            "image/png": "[encoded data removed]",
            "text/plain": [
              "<Figure size 432x288 with 1 Axes>"
            ]
          },
          "metadata": {
            "tags": []
          }
        }
      ]
    },
    {
      "cell_type": "markdown",
      "metadata": {
        "id": "IUJEe9cDPX0m",
        "colab_type": "text"
      },
      "source": [
        "### How does the payment distribution look like?"
      ]
    },
    {
      "cell_type": "code",
      "metadata": {
        "id": "2D4DO4vYQZmX",
        "colab_type": "code",
        "outputId": "92cc7a63-16d9-428c-f0e8-a456ce609bf9",
        "colab": {
          "base_uri": "https://localhost:8080/",
          "height": 283
        }
      },
      "source": [
        "data['PAYMENTS'].describe(np.arange(0.1, 1, 0.1))"
      ],
      "execution_count": 12,
      "outputs": [
        {
          "output_type": "execute_result",
          "data": {
            "text/plain": [
              "count     8950.000000\n",
              "mean      1733.143852\n",
              "std       2895.063757\n",
              "min          0.000000\n",
              "10%        179.617069\n",
              "20%        313.141031\n",
              "30%        459.438287\n",
              "40%        624.268198\n",
              "50%        856.901546\n",
              "60%       1185.259270\n",
              "70%       1604.092113\n",
              "80%       2314.017654\n",
              "90%       3923.906642\n",
              "max      50721.483360\n",
              "Name: PAYMENTS, dtype: float64"
            ]
          },
          "metadata": {
            "tags": []
          },
          "execution_count": 12
        }
      ]
    },
    {
      "cell_type": "code",
      "metadata": {
        "id": "MjgtlSe8QdGO",
        "colab_type": "code",
        "outputId": "40ebab4f-f499-464a-f9fa-31b430c0d72c",
        "colab": {
          "base_uri": "https://localhost:8080/",
          "height": 296
        }
      },
      "source": [
        "sns.distplot(data['PAYMENTS'], kde=False)"
      ],
      "execution_count": 13,
      "outputs": [
        {
          "output_type": "execute_result",
          "data": {
            "text/plain": [
              "<matplotlib.axes._subplots.AxesSubplot at 0x7feb0e57f048>"
            ]
          },
          "metadata": {
            "tags": []
          },
          "execution_count": 13
        },
        {
          "output_type": "display_data",
          "data": {
            "image/png": "[encoded data removed]",
            "text/plain": [
              "<Figure size 432x288 with 1 Axes>"
            ]
          },
          "metadata": {
            "tags": []
          }
        }
      ]
    },
    {
      "cell_type": "markdown",
      "metadata": {
        "id": "rulXVROOQktg",
        "colab_type": "text"
      },
      "source": [
        "# Clustering"
      ]
    },
    {
      "cell_type": "code",
      "metadata": {
        "id": "eh6RPPyKQqbo",
        "colab_type": "code",
        "colab": {}
      },
      "source": [
        "from sklearn.cluster import KMeans"
      ],
      "execution_count": 0,
      "outputs": []
    },
    {
      "cell_type": "code",
      "metadata": {
        "id": "8IL-NAPHXfqY",
        "colab_type": "code",
        "outputId": "ac52f6c2-0def-4451-9335-a317be1f413f",
        "colab": {
          "base_uri": "https://localhost:8080/",
          "height": 197
        }
      },
      "source": [
        "# Get features we need\n",
        "features = ['CREDIT_LIMIT', 'PURCHASES', 'PURCHASES_TRX','CASH_ADVANCE','CASH_ADVANCE_TRX']\n",
        "X = data[features]\n",
        "\n",
        "# Convert categorical to numeric\n",
        "# X = pd.get_dummies(X_raw)\n",
        "# X_raw.head()\n",
        "\n",
        "X.head()"
      ],
      "execution_count": 15,
      "outputs": [
        {
          "output_type": "execute_result",
          "data": {
            "text/html": [
              "<div>\n",
              "<style scoped>\n",
              "    .dataframe tbody tr th:only-of-type {\n",
              "        vertical-align: middle;\n",
              "    }\n",
              "\n",
              "    .dataframe tbody tr th {\n",
              "        vertical-align: top;\n",
              "    }\n",
              "\n",
              "    .dataframe thead th {\n",
              "        text-align: right;\n",
              "    }\n",
              "</style>\n",
              "<table border=\"1\" class=\"dataframe\">\n",
              "  <thead>\n",
              "    <tr style=\"text-align: right;\">\n",
              "      <th></th>\n",
              "      <th>CREDIT_LIMIT</th>\n",
              "      <th>PURCHASES</th>\n",
              "      <th>PURCHASES_TRX</th>\n",
              "      <th>CASH_ADVANCE</th>\n",
              "      <th>CASH_ADVANCE_TRX</th>\n",
              "    </tr>\n",
              "  </thead>\n",
              "  <tbody>\n",
              "    <tr>\n",
              "      <th>0</th>\n",
              "      <td>1000.0</td>\n",
              "      <td>95.40</td>\n",
              "      <td>2</td>\n",
              "      <td>0.000000</td>\n",
              "      <td>0</td>\n",
              "    </tr>\n",
              "    <tr>\n",
              "      <th>1</th>\n",
              "      <td>7000.0</td>\n",
              "      <td>0.00</td>\n",
              "      <td>0</td>\n",
              "      <td>6442.945483</td>\n",
              "      <td>4</td>\n",
              "    </tr>\n",
              "    <tr>\n",
              "      <th>2</th>\n",
              "      <td>7500.0</td>\n",
              "      <td>773.17</td>\n",
              "      <td>12</td>\n",
              "      <td>0.000000</td>\n",
              "      <td>0</td>\n",
              "    </tr>\n",
              "    <tr>\n",
              "      <th>3</th>\n",
              "      <td>7500.0</td>\n",
              "      <td>1499.00</td>\n",
              "      <td>1</td>\n",
              "      <td>205.788017</td>\n",
              "      <td>1</td>\n",
              "    </tr>\n",
              "    <tr>\n",
              "      <th>4</th>\n",
              "      <td>1200.0</td>\n",
              "      <td>16.00</td>\n",
              "      <td>1</td>\n",
              "      <td>0.000000</td>\n",
              "      <td>0</td>\n",
              "    </tr>\n",
              "  </tbody>\n",
              "</table>\n",
              "</div>"
            ],
            "text/plain": [
              "   CREDIT_LIMIT  PURCHASES  PURCHASES_TRX  CASH_ADVANCE  CASH_ADVANCE_TRX\n",
              "0        1000.0      95.40              2      0.000000                 0\n",
              "1        7000.0       0.00              0   6442.945483                 4\n",
              "2        7500.0     773.17             12      0.000000                 0\n",
              "3        7500.0    1499.00              1    205.788017                 1\n",
              "4        1200.0      16.00              1      0.000000                 0"
            ]
          },
          "metadata": {
            "tags": []
          },
          "execution_count": 15
        }
      ]
    },
    {
      "cell_type": "markdown",
      "metadata": {
        "id": "cYdb620Teh-4",
        "colab_type": "text"
      },
      "source": [
        "### Choosing Optimal *k*"
      ]
    },
    {
      "cell_type": "code",
      "metadata": {
        "id": "qe3aWEI0ehjG",
        "colab_type": "code",
        "outputId": "36ff184c-9d87-472c-8861-0ed396d9e343",
        "colab": {
          "base_uri": "https://localhost:8080/",
          "height": 293
        }
      },
      "source": [
        "# get the sum of squared errors and find where the reduction of the errors are saturated with the increase of k\n",
        "squared_errors = []\n",
        "\n",
        "for num_iter in range(1,21):\n",
        "  km = KMeans(n_clusters=num_iter, random_state=42)\n",
        "  km.fit(X)\n",
        "  squared_errors.append(km.inertia_)\n",
        "\n",
        "# check for the best k to use\n",
        "plt.plot(squared_errors, marker = 'o')"
      ],
      "execution_count": 16,
      "outputs": [
        {
          "output_type": "execute_result",
          "data": {
            "text/plain": [
              "[<matplotlib.lines.Line2D at 0x7feb08024f28>]"
            ]
          },
          "metadata": {
            "tags": []
          },
          "execution_count": 16
        },
        {
          "output_type": "display_data",
          "data": {
            "image/png": "[encoded data removed]",
            "text/plain": [
              "<Figure size 432x288 with 1 Axes>"
            ]
          },
          "metadata": {
            "tags": []
          }
        }
      ]
    },
    {
      "cell_type": "markdown",
      "metadata": {
        "id": "ZYTzOIoVerNG",
        "colab_type": "text"
      },
      "source": [
        "Using the elbow method, I decided to use *k=5*."
      ]
    },
    {
      "cell_type": "code",
      "metadata": {
        "id": "l8QUoI4DX7Nf",
        "colab_type": "code",
        "colab": {}
      },
      "source": [
        "# Clustering using KMeans. We choose 5 clusters\n",
        "km = KMeans(n_clusters=5, random_state=42)\n",
        "\n",
        "# Fit data to model\n",
        "km.fit(X)\n",
        "\n",
        "# Get labels\n",
        "labels = km.predict(X)\n",
        "\n",
        "# Create new dataframe with features and labels\n",
        "new_data = X.copy()\n",
        "\n",
        "# Add labels to new_data dataframe\n",
        "new_data['labels'] = labels"
      ],
      "execution_count": 0,
      "outputs": []
    },
    {
      "cell_type": "code",
      "metadata": {
        "id": "1gCNHjXlZQBo",
        "colab_type": "code",
        "outputId": "9deeaa84-7869-4329-a7c7-917dc9d8c2b7",
        "colab": {
          "base_uri": "https://localhost:8080/",
          "height": 197
        }
      },
      "source": [
        "new_data.head()"
      ],
      "execution_count": 18,
      "outputs": [
        {
          "output_type": "execute_result",
          "data": {
            "text/html": [
              "<div>\n",
              "<style scoped>\n",
              "    .dataframe tbody tr th:only-of-type {\n",
              "        vertical-align: middle;\n",
              "    }\n",
              "\n",
              "    .dataframe tbody tr th {\n",
              "        vertical-align: top;\n",
              "    }\n",
              "\n",
              "    .dataframe thead th {\n",
              "        text-align: right;\n",
              "    }\n",
              "</style>\n",
              "<table border=\"1\" class=\"dataframe\">\n",
              "  <thead>\n",
              "    <tr style=\"text-align: right;\">\n",
              "      <th></th>\n",
              "      <th>CREDIT_LIMIT</th>\n",
              "      <th>PURCHASES</th>\n",
              "      <th>PURCHASES_TRX</th>\n",
              "      <th>CASH_ADVANCE</th>\n",
              "      <th>CASH_ADVANCE_TRX</th>\n",
              "      <th>labels</th>\n",
              "    </tr>\n",
              "  </thead>\n",
              "  <tbody>\n",
              "    <tr>\n",
              "      <th>0</th>\n",
              "      <td>1000.0</td>\n",
              "      <td>95.40</td>\n",
              "      <td>2</td>\n",
              "      <td>0.000000</td>\n",
              "      <td>0</td>\n",
              "      <td>3</td>\n",
              "    </tr>\n",
              "    <tr>\n",
              "      <th>1</th>\n",
              "      <td>7000.0</td>\n",
              "      <td>0.00</td>\n",
              "      <td>0</td>\n",
              "      <td>6442.945483</td>\n",
              "      <td>4</td>\n",
              "      <td>1</td>\n",
              "    </tr>\n",
              "    <tr>\n",
              "      <th>2</th>\n",
              "      <td>7500.0</td>\n",
              "      <td>773.17</td>\n",
              "      <td>12</td>\n",
              "      <td>0.000000</td>\n",
              "      <td>0</td>\n",
              "      <td>0</td>\n",
              "    </tr>\n",
              "    <tr>\n",
              "      <th>3</th>\n",
              "      <td>7500.0</td>\n",
              "      <td>1499.00</td>\n",
              "      <td>1</td>\n",
              "      <td>205.788017</td>\n",
              "      <td>1</td>\n",
              "      <td>0</td>\n",
              "    </tr>\n",
              "    <tr>\n",
              "      <th>4</th>\n",
              "      <td>1200.0</td>\n",
              "      <td>16.00</td>\n",
              "      <td>1</td>\n",
              "      <td>0.000000</td>\n",
              "      <td>0</td>\n",
              "      <td>3</td>\n",
              "    </tr>\n",
              "  </tbody>\n",
              "</table>\n",
              "</div>"
            ],
            "text/plain": [
              "   CREDIT_LIMIT  PURCHASES  ...  CASH_ADVANCE_TRX  labels\n",
              "0        1000.0      95.40  ...                 0       3\n",
              "1        7000.0       0.00  ...                 4       1\n",
              "2        7500.0     773.17  ...                 0       0\n",
              "3        7500.0    1499.00  ...                 1       0\n",
              "4        1200.0      16.00  ...                 0       3\n",
              "\n",
              "[5 rows x 6 columns]"
            ]
          },
          "metadata": {
            "tags": []
          },
          "execution_count": 18
        }
      ]
    },
    {
      "cell_type": "markdown",
      "metadata": {
        "id": "I-FwRETgaoKT",
        "colab_type": "text"
      },
      "source": [
        "# Deep Dive to each cluster"
      ]
    },
    {
      "cell_type": "code",
      "metadata": {
        "id": "DjCzSJYLc6Kv",
        "colab_type": "code",
        "outputId": "90b8f0af-91e4-42ff-f2b0-1397966804e9",
        "colab": {
          "base_uri": "https://localhost:8080/",
          "height": 287
        }
      },
      "source": [
        "# Cluster 0\n",
        "cluster_0 = new_data[new_data['labels']==0]\n",
        "cluster_0.describe()"
      ],
      "execution_count": 19,
      "outputs": [
        {
          "output_type": "execute_result",
          "data": {
            "text/html": [
              "<div>\n",
              "<style scoped>\n",
              "    .dataframe tbody tr th:only-of-type {\n",
              "        vertical-align: middle;\n",
              "    }\n",
              "\n",
              "    .dataframe tbody tr th {\n",
              "        vertical-align: top;\n",
              "    }\n",
              "\n",
              "    .dataframe thead th {\n",
              "        text-align: right;\n",
              "    }\n",
              "</style>\n",
              "<table border=\"1\" class=\"dataframe\">\n",
              "  <thead>\n",
              "    <tr style=\"text-align: right;\">\n",
              "      <th></th>\n",
              "      <th>CREDIT_LIMIT</th>\n",
              "      <th>PURCHASES</th>\n",
              "      <th>PURCHASES_TRX</th>\n",
              "      <th>CASH_ADVANCE</th>\n",
              "      <th>CASH_ADVANCE_TRX</th>\n",
              "      <th>labels</th>\n",
              "    </tr>\n",
              "  </thead>\n",
              "  <tbody>\n",
              "    <tr>\n",
              "      <th>count</th>\n",
              "      <td>2496.000000</td>\n",
              "      <td>2496.000000</td>\n",
              "      <td>2496.000000</td>\n",
              "      <td>2496.000000</td>\n",
              "      <td>2496.000000</td>\n",
              "      <td>2496.0</td>\n",
              "    </tr>\n",
              "    <tr>\n",
              "      <th>mean</th>\n",
              "      <td>6360.430833</td>\n",
              "      <td>1338.365020</td>\n",
              "      <td>19.840946</td>\n",
              "      <td>862.177794</td>\n",
              "      <td>3.062901</td>\n",
              "      <td>0.0</td>\n",
              "    </tr>\n",
              "    <tr>\n",
              "      <th>std</th>\n",
              "      <td>1416.105720</td>\n",
              "      <td>1753.030841</td>\n",
              "      <td>28.240180</td>\n",
              "      <td>1338.003560</td>\n",
              "      <td>5.946897</td>\n",
              "      <td>0.0</td>\n",
              "    </tr>\n",
              "    <tr>\n",
              "      <th>min</th>\n",
              "      <td>2800.000000</td>\n",
              "      <td>0.000000</td>\n",
              "      <td>0.000000</td>\n",
              "      <td>0.000000</td>\n",
              "      <td>0.000000</td>\n",
              "      <td>0.0</td>\n",
              "    </tr>\n",
              "    <tr>\n",
              "      <th>25%</th>\n",
              "      <td>5000.000000</td>\n",
              "      <td>128.240000</td>\n",
              "      <td>2.000000</td>\n",
              "      <td>0.000000</td>\n",
              "      <td>0.000000</td>\n",
              "      <td>0.0</td>\n",
              "    </tr>\n",
              "    <tr>\n",
              "      <th>50%</th>\n",
              "      <td>6000.000000</td>\n",
              "      <td>729.255000</td>\n",
              "      <td>11.000000</td>\n",
              "      <td>0.000000</td>\n",
              "      <td>0.000000</td>\n",
              "      <td>0.0</td>\n",
              "    </tr>\n",
              "    <tr>\n",
              "      <th>75%</th>\n",
              "      <td>7500.000000</td>\n",
              "      <td>1915.215000</td>\n",
              "      <td>26.000000</td>\n",
              "      <td>1465.072629</td>\n",
              "      <td>4.000000</td>\n",
              "      <td>0.0</td>\n",
              "    </tr>\n",
              "    <tr>\n",
              "      <th>max</th>\n",
              "      <td>9700.000000</td>\n",
              "      <td>15704.040000</td>\n",
              "      <td>309.000000</td>\n",
              "      <td>5411.208676</td>\n",
              "      <td>52.000000</td>\n",
              "      <td>0.0</td>\n",
              "    </tr>\n",
              "  </tbody>\n",
              "</table>\n",
              "</div>"
            ],
            "text/plain": [
              "       CREDIT_LIMIT     PURCHASES  ...  CASH_ADVANCE_TRX  labels\n",
              "count   2496.000000   2496.000000  ...       2496.000000  2496.0\n",
              "mean    6360.430833   1338.365020  ...          3.062901     0.0\n",
              "std     1416.105720   1753.030841  ...          5.946897     0.0\n",
              "min     2800.000000      0.000000  ...          0.000000     0.0\n",
              "25%     5000.000000    128.240000  ...          0.000000     0.0\n",
              "50%     6000.000000    729.255000  ...          0.000000     0.0\n",
              "75%     7500.000000   1915.215000  ...          4.000000     0.0\n",
              "max     9700.000000  15704.040000  ...         52.000000     0.0\n",
              "\n",
              "[8 rows x 6 columns]"
            ]
          },
          "metadata": {
            "tags": []
          },
          "execution_count": 19
        }
      ]
    },
    {
      "cell_type": "markdown",
      "metadata": {
        "id": "hnXVR-YRdgss",
        "colab_type": "text"
      },
      "source": [
        "Cluster 0: Mid Credit Limit & Mid Purchases & Low Cash Advance\n",
        "\n",
        "\n"
      ]
    },
    {
      "cell_type": "code",
      "metadata": {
        "id": "GjJcGRJebtu6",
        "colab_type": "code",
        "outputId": "b0ddd7a0-95a8-4a76-8a8f-2a1d3ec3a541",
        "colab": {
          "base_uri": "https://localhost:8080/",
          "height": 287
        }
      },
      "source": [
        "# Cluster 1 \n",
        "cluster_1 = new_data[new_data['labels']==1]\n",
        "cluster_1.describe()"
      ],
      "execution_count": 20,
      "outputs": [
        {
          "output_type": "execute_result",
          "data": {
            "text/html": [
              "<div>\n",
              "<style scoped>\n",
              "    .dataframe tbody tr th:only-of-type {\n",
              "        vertical-align: middle;\n",
              "    }\n",
              "\n",
              "    .dataframe tbody tr th {\n",
              "        vertical-align: top;\n",
              "    }\n",
              "\n",
              "    .dataframe thead th {\n",
              "        text-align: right;\n",
              "    }\n",
              "</style>\n",
              "<table border=\"1\" class=\"dataframe\">\n",
              "  <thead>\n",
              "    <tr style=\"text-align: right;\">\n",
              "      <th></th>\n",
              "      <th>CREDIT_LIMIT</th>\n",
              "      <th>PURCHASES</th>\n",
              "      <th>PURCHASES_TRX</th>\n",
              "      <th>CASH_ADVANCE</th>\n",
              "      <th>CASH_ADVANCE_TRX</th>\n",
              "      <th>labels</th>\n",
              "    </tr>\n",
              "  </thead>\n",
              "  <tbody>\n",
              "    <tr>\n",
              "      <th>count</th>\n",
              "      <td>396.000000</td>\n",
              "      <td>396.000000</td>\n",
              "      <td>396.000000</td>\n",
              "      <td>396.000000</td>\n",
              "      <td>396.000000</td>\n",
              "      <td>396.0</td>\n",
              "    </tr>\n",
              "    <tr>\n",
              "      <th>mean</th>\n",
              "      <td>9104.545455</td>\n",
              "      <td>691.145606</td>\n",
              "      <td>9.876263</td>\n",
              "      <td>8100.047963</td>\n",
              "      <td>17.101010</td>\n",
              "      <td>1.0</td>\n",
              "    </tr>\n",
              "    <tr>\n",
              "      <th>std</th>\n",
              "      <td>2813.955646</td>\n",
              "      <td>1419.760706</td>\n",
              "      <td>23.879600</td>\n",
              "      <td>4274.851284</td>\n",
              "      <td>16.391875</td>\n",
              "      <td>0.0</td>\n",
              "    </tr>\n",
              "    <tr>\n",
              "      <th>min</th>\n",
              "      <td>1200.000000</td>\n",
              "      <td>0.000000</td>\n",
              "      <td>0.000000</td>\n",
              "      <td>3702.475695</td>\n",
              "      <td>1.000000</td>\n",
              "      <td>1.0</td>\n",
              "    </tr>\n",
              "    <tr>\n",
              "      <th>25%</th>\n",
              "      <td>7000.000000</td>\n",
              "      <td>0.000000</td>\n",
              "      <td>0.000000</td>\n",
              "      <td>5571.712849</td>\n",
              "      <td>8.000000</td>\n",
              "      <td>1.0</td>\n",
              "    </tr>\n",
              "    <tr>\n",
              "      <th>50%</th>\n",
              "      <td>9000.000000</td>\n",
              "      <td>96.370000</td>\n",
              "      <td>1.000000</td>\n",
              "      <td>6954.632394</td>\n",
              "      <td>13.000000</td>\n",
              "      <td>1.0</td>\n",
              "    </tr>\n",
              "    <tr>\n",
              "      <th>75%</th>\n",
              "      <td>10500.000000</td>\n",
              "      <td>783.482500</td>\n",
              "      <td>10.000000</td>\n",
              "      <td>9319.139195</td>\n",
              "      <td>21.000000</td>\n",
              "      <td>1.0</td>\n",
              "    </tr>\n",
              "    <tr>\n",
              "      <th>max</th>\n",
              "      <td>19600.000000</td>\n",
              "      <td>12551.950000</td>\n",
              "      <td>308.000000</td>\n",
              "      <td>47137.211760</td>\n",
              "      <td>123.000000</td>\n",
              "      <td>1.0</td>\n",
              "    </tr>\n",
              "  </tbody>\n",
              "</table>\n",
              "</div>"
            ],
            "text/plain": [
              "       CREDIT_LIMIT     PURCHASES  ...  CASH_ADVANCE_TRX  labels\n",
              "count    396.000000    396.000000  ...        396.000000   396.0\n",
              "mean    9104.545455    691.145606  ...         17.101010     1.0\n",
              "std     2813.955646   1419.760706  ...         16.391875     0.0\n",
              "min     1200.000000      0.000000  ...          1.000000     1.0\n",
              "25%     7000.000000      0.000000  ...          8.000000     1.0\n",
              "50%     9000.000000     96.370000  ...         13.000000     1.0\n",
              "75%    10500.000000    783.482500  ...         21.000000     1.0\n",
              "max    19600.000000  12551.950000  ...        123.000000     1.0\n",
              "\n",
              "[8 rows x 6 columns]"
            ]
          },
          "metadata": {
            "tags": []
          },
          "execution_count": 20
        }
      ]
    },
    {
      "cell_type": "markdown",
      "metadata": {
        "id": "TAu_kbMvdl0C",
        "colab_type": "text"
      },
      "source": [
        "Cluster 1: Mid Credit Limit & Mid Purchases & Mid Cash Advance"
      ]
    },
    {
      "cell_type": "code",
      "metadata": {
        "id": "H5ssZ-z9bvLZ",
        "colab_type": "code",
        "outputId": "4d6689f7-0c9d-4060-ba0f-0439e7cea22a",
        "colab": {
          "base_uri": "https://localhost:8080/",
          "height": 287
        }
      },
      "source": [
        "# Cluster 2\n",
        "cluster_2 = new_data[new_data['labels']==2]\n",
        "cluster_2.describe()"
      ],
      "execution_count": 21,
      "outputs": [
        {
          "output_type": "execute_result",
          "data": {
            "text/html": [
              "<div>\n",
              "<style scoped>\n",
              "    .dataframe tbody tr th:only-of-type {\n",
              "        vertical-align: middle;\n",
              "    }\n",
              "\n",
              "    .dataframe tbody tr th {\n",
              "        vertical-align: top;\n",
              "    }\n",
              "\n",
              "    .dataframe thead th {\n",
              "        text-align: right;\n",
              "    }\n",
              "</style>\n",
              "<table border=\"1\" class=\"dataframe\">\n",
              "  <thead>\n",
              "    <tr style=\"text-align: right;\">\n",
              "      <th></th>\n",
              "      <th>CREDIT_LIMIT</th>\n",
              "      <th>PURCHASES</th>\n",
              "      <th>PURCHASES_TRX</th>\n",
              "      <th>CASH_ADVANCE</th>\n",
              "      <th>CASH_ADVANCE_TRX</th>\n",
              "      <th>labels</th>\n",
              "    </tr>\n",
              "  </thead>\n",
              "  <tbody>\n",
              "    <tr>\n",
              "      <th>count</th>\n",
              "      <td>720.000000</td>\n",
              "      <td>720.000000</td>\n",
              "      <td>720.000000</td>\n",
              "      <td>720.000000</td>\n",
              "      <td>720.000000</td>\n",
              "      <td>720.0</td>\n",
              "    </tr>\n",
              "    <tr>\n",
              "      <th>mean</th>\n",
              "      <td>12591.180556</td>\n",
              "      <td>2617.974319</td>\n",
              "      <td>32.647222</td>\n",
              "      <td>885.361400</td>\n",
              "      <td>2.506944</td>\n",
              "      <td>2.0</td>\n",
              "    </tr>\n",
              "    <tr>\n",
              "      <th>std</th>\n",
              "      <td>2909.321859</td>\n",
              "      <td>2975.602634</td>\n",
              "      <td>40.296681</td>\n",
              "      <td>1465.863830</td>\n",
              "      <td>4.737030</td>\n",
              "      <td>0.0</td>\n",
              "    </tr>\n",
              "    <tr>\n",
              "      <th>min</th>\n",
              "      <td>8000.000000</td>\n",
              "      <td>0.000000</td>\n",
              "      <td>0.000000</td>\n",
              "      <td>0.000000</td>\n",
              "      <td>0.000000</td>\n",
              "      <td>2.0</td>\n",
              "    </tr>\n",
              "    <tr>\n",
              "      <th>25%</th>\n",
              "      <td>10500.000000</td>\n",
              "      <td>375.360000</td>\n",
              "      <td>5.000000</td>\n",
              "      <td>0.000000</td>\n",
              "      <td>0.000000</td>\n",
              "      <td>2.0</td>\n",
              "    </tr>\n",
              "    <tr>\n",
              "      <th>50%</th>\n",
              "      <td>12000.000000</td>\n",
              "      <td>1507.350000</td>\n",
              "      <td>19.000000</td>\n",
              "      <td>0.000000</td>\n",
              "      <td>0.000000</td>\n",
              "      <td>2.0</td>\n",
              "    </tr>\n",
              "    <tr>\n",
              "      <th>75%</th>\n",
              "      <td>14000.000000</td>\n",
              "      <td>3929.812500</td>\n",
              "      <td>44.000000</td>\n",
              "      <td>1391.582437</td>\n",
              "      <td>3.000000</td>\n",
              "      <td>2.0</td>\n",
              "    </tr>\n",
              "    <tr>\n",
              "      <th>max</th>\n",
              "      <td>30000.000000</td>\n",
              "      <td>14454.980000</td>\n",
              "      <td>274.000000</td>\n",
              "      <td>7424.094447</td>\n",
              "      <td>40.000000</td>\n",
              "      <td>2.0</td>\n",
              "    </tr>\n",
              "  </tbody>\n",
              "</table>\n",
              "</div>"
            ],
            "text/plain": [
              "       CREDIT_LIMIT     PURCHASES  ...  CASH_ADVANCE_TRX  labels\n",
              "count    720.000000    720.000000  ...        720.000000   720.0\n",
              "mean   12591.180556   2617.974319  ...          2.506944     2.0\n",
              "std     2909.321859   2975.602634  ...          4.737030     0.0\n",
              "min     8000.000000      0.000000  ...          0.000000     2.0\n",
              "25%    10500.000000    375.360000  ...          0.000000     2.0\n",
              "50%    12000.000000   1507.350000  ...          0.000000     2.0\n",
              "75%    14000.000000   3929.812500  ...          3.000000     2.0\n",
              "max    30000.000000  14454.980000  ...         40.000000     2.0\n",
              "\n",
              "[8 rows x 6 columns]"
            ]
          },
          "metadata": {
            "tags": []
          },
          "execution_count": 21
        }
      ]
    },
    {
      "cell_type": "markdown",
      "metadata": {
        "id": "_5ypez6tdxis",
        "colab_type": "text"
      },
      "source": [
        "Cluster 2: High Credit Limit & Mid Purchase & Low Cash Advance"
      ]
    },
    {
      "cell_type": "code",
      "metadata": {
        "id": "-N6iG4cQctfi",
        "colab_type": "code",
        "outputId": "40cfa869-d566-490a-a73d-5bdacb419037",
        "colab": {
          "base_uri": "https://localhost:8080/",
          "height": 287
        }
      },
      "source": [
        "# Cluster 3\n",
        "cluster_3 = new_data[new_data['labels']==3]\n",
        "cluster_3.describe()"
      ],
      "execution_count": 22,
      "outputs": [
        {
          "output_type": "execute_result",
          "data": {
            "text/html": [
              "<div>\n",
              "<style scoped>\n",
              "    .dataframe tbody tr th:only-of-type {\n",
              "        vertical-align: middle;\n",
              "    }\n",
              "\n",
              "    .dataframe tbody tr th {\n",
              "        vertical-align: top;\n",
              "    }\n",
              "\n",
              "    .dataframe thead th {\n",
              "        text-align: right;\n",
              "    }\n",
              "</style>\n",
              "<table border=\"1\" class=\"dataframe\">\n",
              "  <thead>\n",
              "    <tr style=\"text-align: right;\">\n",
              "      <th></th>\n",
              "      <th>CREDIT_LIMIT</th>\n",
              "      <th>PURCHASES</th>\n",
              "      <th>PURCHASES_TRX</th>\n",
              "      <th>CASH_ADVANCE</th>\n",
              "      <th>CASH_ADVANCE_TRX</th>\n",
              "      <th>labels</th>\n",
              "    </tr>\n",
              "  </thead>\n",
              "  <tbody>\n",
              "    <tr>\n",
              "      <th>count</th>\n",
              "      <td>5309.000000</td>\n",
              "      <td>5309.000000</td>\n",
              "      <td>5309.000000</td>\n",
              "      <td>5309.000000</td>\n",
              "      <td>5309.000000</td>\n",
              "      <td>5309.0</td>\n",
              "    </tr>\n",
              "    <tr>\n",
              "      <th>mean</th>\n",
              "      <td>2111.798309</td>\n",
              "      <td>516.457879</td>\n",
              "      <td>9.546242</td>\n",
              "      <td>515.744249</td>\n",
              "      <td>2.413261</td>\n",
              "      <td>3.0</td>\n",
              "    </tr>\n",
              "    <tr>\n",
              "      <th>std</th>\n",
              "      <td>981.917498</td>\n",
              "      <td>758.464038</td>\n",
              "      <td>13.534891</td>\n",
              "      <td>920.172586</td>\n",
              "      <td>4.849920</td>\n",
              "      <td>0.0</td>\n",
              "    </tr>\n",
              "    <tr>\n",
              "      <th>min</th>\n",
              "      <td>50.000000</td>\n",
              "      <td>0.000000</td>\n",
              "      <td>0.000000</td>\n",
              "      <td>0.000000</td>\n",
              "      <td>0.000000</td>\n",
              "      <td>3.0</td>\n",
              "    </tr>\n",
              "    <tr>\n",
              "      <th>25%</th>\n",
              "      <td>1200.000000</td>\n",
              "      <td>0.000000</td>\n",
              "      <td>0.000000</td>\n",
              "      <td>0.000000</td>\n",
              "      <td>0.000000</td>\n",
              "      <td>3.0</td>\n",
              "    </tr>\n",
              "    <tr>\n",
              "      <th>50%</th>\n",
              "      <td>2000.000000</td>\n",
              "      <td>247.450000</td>\n",
              "      <td>6.000000</td>\n",
              "      <td>0.000000</td>\n",
              "      <td>0.000000</td>\n",
              "      <td>3.0</td>\n",
              "    </tr>\n",
              "    <tr>\n",
              "      <th>75%</th>\n",
              "      <td>3000.000000</td>\n",
              "      <td>671.360000</td>\n",
              "      <td>12.000000</td>\n",
              "      <td>724.694411</td>\n",
              "      <td>3.000000</td>\n",
              "      <td>3.0</td>\n",
              "    </tr>\n",
              "    <tr>\n",
              "      <th>max</th>\n",
              "      <td>4400.000000</td>\n",
              "      <td>8591.310000</td>\n",
              "      <td>186.000000</td>\n",
              "      <td>7003.112284</td>\n",
              "      <td>123.000000</td>\n",
              "      <td>3.0</td>\n",
              "    </tr>\n",
              "  </tbody>\n",
              "</table>\n",
              "</div>"
            ],
            "text/plain": [
              "       CREDIT_LIMIT    PURCHASES  ...  CASH_ADVANCE_TRX  labels\n",
              "count   5309.000000  5309.000000  ...       5309.000000  5309.0\n",
              "mean    2111.798309   516.457879  ...          2.413261     3.0\n",
              "std      981.917498   758.464038  ...          4.849920     0.0\n",
              "min       50.000000     0.000000  ...          0.000000     3.0\n",
              "25%     1200.000000     0.000000  ...          0.000000     3.0\n",
              "50%     2000.000000   247.450000  ...          0.000000     3.0\n",
              "75%     3000.000000   671.360000  ...          3.000000     3.0\n",
              "max     4400.000000  8591.310000  ...        123.000000     3.0\n",
              "\n",
              "[8 rows x 6 columns]"
            ]
          },
          "metadata": {
            "tags": []
          },
          "execution_count": 22
        }
      ]
    },
    {
      "cell_type": "markdown",
      "metadata": {
        "id": "6AudyQ7Pd1TP",
        "colab_type": "text"
      },
      "source": [
        "Cluster 3: Low Credit Limit & Low Purchase & Low Cash Advance ( Wais- people who don't spend much money)"
      ]
    },
    {
      "cell_type": "code",
      "metadata": {
        "id": "u_Kuic6kcvmu",
        "colab_type": "code",
        "outputId": "7637227f-e5e3-4d85-8712-8429190022d1",
        "colab": {
          "base_uri": "https://localhost:8080/",
          "height": 287
        }
      },
      "source": [
        "# Cluster 4\n",
        "cluster_4 = new_data[new_data['labels']==4]\n",
        "cluster_4.describe()"
      ],
      "execution_count": 23,
      "outputs": [
        {
          "output_type": "execute_result",
          "data": {
            "text/html": [
              "<div>\n",
              "<style scoped>\n",
              "    .dataframe tbody tr th:only-of-type {\n",
              "        vertical-align: middle;\n",
              "    }\n",
              "\n",
              "    .dataframe tbody tr th {\n",
              "        vertical-align: top;\n",
              "    }\n",
              "\n",
              "    .dataframe thead th {\n",
              "        text-align: right;\n",
              "    }\n",
              "</style>\n",
              "<table border=\"1\" class=\"dataframe\">\n",
              "  <thead>\n",
              "    <tr style=\"text-align: right;\">\n",
              "      <th></th>\n",
              "      <th>CREDIT_LIMIT</th>\n",
              "      <th>PURCHASES</th>\n",
              "      <th>PURCHASES_TRX</th>\n",
              "      <th>CASH_ADVANCE</th>\n",
              "      <th>CASH_ADVANCE_TRX</th>\n",
              "      <th>labels</th>\n",
              "    </tr>\n",
              "  </thead>\n",
              "  <tbody>\n",
              "    <tr>\n",
              "      <th>count</th>\n",
              "      <td>29.000000</td>\n",
              "      <td>29.000000</td>\n",
              "      <td>29.000000</td>\n",
              "      <td>29.000000</td>\n",
              "      <td>29.000000</td>\n",
              "      <td>29.0</td>\n",
              "    </tr>\n",
              "    <tr>\n",
              "      <th>mean</th>\n",
              "      <td>16106.896552</td>\n",
              "      <td>25434.969655</td>\n",
              "      <td>139.034483</td>\n",
              "      <td>887.422949</td>\n",
              "      <td>1.482759</td>\n",
              "      <td>4.0</td>\n",
              "    </tr>\n",
              "    <tr>\n",
              "      <th>std</th>\n",
              "      <td>5303.902272</td>\n",
              "      <td>8876.408034</td>\n",
              "      <td>99.686467</td>\n",
              "      <td>3651.436222</td>\n",
              "      <td>6.500663</td>\n",
              "      <td>0.0</td>\n",
              "    </tr>\n",
              "    <tr>\n",
              "      <th>min</th>\n",
              "      <td>7500.000000</td>\n",
              "      <td>14300.980000</td>\n",
              "      <td>3.000000</td>\n",
              "      <td>0.000000</td>\n",
              "      <td>0.000000</td>\n",
              "      <td>4.0</td>\n",
              "    </tr>\n",
              "    <tr>\n",
              "      <th>25%</th>\n",
              "      <td>12000.000000</td>\n",
              "      <td>20421.590000</td>\n",
              "      <td>70.000000</td>\n",
              "      <td>0.000000</td>\n",
              "      <td>0.000000</td>\n",
              "      <td>4.0</td>\n",
              "    </tr>\n",
              "    <tr>\n",
              "      <th>50%</th>\n",
              "      <td>16500.000000</td>\n",
              "      <td>22746.810000</td>\n",
              "      <td>114.000000</td>\n",
              "      <td>0.000000</td>\n",
              "      <td>0.000000</td>\n",
              "      <td>4.0</td>\n",
              "    </tr>\n",
              "    <tr>\n",
              "      <th>75%</th>\n",
              "      <td>18000.000000</td>\n",
              "      <td>27957.680000</td>\n",
              "      <td>195.000000</td>\n",
              "      <td>0.000000</td>\n",
              "      <td>0.000000</td>\n",
              "      <td>4.0</td>\n",
              "    </tr>\n",
              "    <tr>\n",
              "      <th>max</th>\n",
              "      <td>30000.000000</td>\n",
              "      <td>49039.570000</td>\n",
              "      <td>358.000000</td>\n",
              "      <td>19513.474830</td>\n",
              "      <td>35.000000</td>\n",
              "      <td>4.0</td>\n",
              "    </tr>\n",
              "  </tbody>\n",
              "</table>\n",
              "</div>"
            ],
            "text/plain": [
              "       CREDIT_LIMIT     PURCHASES  ...  CASH_ADVANCE_TRX  labels\n",
              "count     29.000000     29.000000  ...         29.000000    29.0\n",
              "mean   16106.896552  25434.969655  ...          1.482759     4.0\n",
              "std     5303.902272   8876.408034  ...          6.500663     0.0\n",
              "min     7500.000000  14300.980000  ...          0.000000     4.0\n",
              "25%    12000.000000  20421.590000  ...          0.000000     4.0\n",
              "50%    16500.000000  22746.810000  ...          0.000000     4.0\n",
              "75%    18000.000000  27957.680000  ...          0.000000     4.0\n",
              "max    30000.000000  49039.570000  ...         35.000000     4.0\n",
              "\n",
              "[8 rows x 6 columns]"
            ]
          },
          "metadata": {
            "tags": []
          },
          "execution_count": 23
        }
      ]
    },
    {
      "cell_type": "markdown",
      "metadata": {
        "id": "izqksJNBd5sp",
        "colab_type": "text"
      },
      "source": [
        "Cluster 4: High Credit Limit & Mid Purchase & Mid Cash Advance"
      ]
    }
  ]
}